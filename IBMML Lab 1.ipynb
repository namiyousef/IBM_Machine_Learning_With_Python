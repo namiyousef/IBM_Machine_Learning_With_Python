{
 "cells": [
  {
   "cell_type": "markdown",
   "metadata": {},
   "source": [
    "## IBM ML Lab 1\n",
    "\n",
    "\n",
    "This notebook is based on the first lab from \"Machine Learning with Python\" by IBM on Coursera. This is my own attempt at doing the labs, without being tempted by the hints and/or solutions. As such, it has extra comments that show my train of thought and reasoning."
   ]
  },
  {
   "cell_type": "code",
   "execution_count": 56,
   "metadata": {},
   "outputs": [],
   "source": [
    "#import necessary packages\n",
    "import matplotlib.pyplot as plt\n",
    "import pandas as pd\n",
    "import pylab as pl\n",
    "import numpy as np\n",
    "\n",
    "import wget #note, wget must be previously installed on your environment: $ pip install wget\n",
    "\n",
    "%matplotlib inline"
   ]
  },
  {
   "cell_type": "code",
   "execution_count": 57,
   "metadata": {},
   "outputs": [
    {
     "name": "stdout",
     "output_type": "stream",
     "text": [
      "--2020-07-14 18:16:52--  https://s3-api.us-geo.objectstorage.softlayer.net/cf-courses-data/CognitiveClass/ML0101ENv3/labs/FuelConsumptionCo2.csv\n",
      "Resolving s3-api.us-geo.objectstorage.softlayer.net (s3-api.us-geo.objectstorage.softlayer.net)... 67.228.254.196\n",
      "Connecting to s3-api.us-geo.objectstorage.softlayer.net (s3-api.us-geo.objectstorage.softlayer.net)|67.228.254.196|:443... connected.\n",
      "HTTP request sent, awaiting response... 200 OK\n",
      "Length: 72629 (71K) [text/csv]\n",
      "Saving to: ‘Fuel.csv’\n",
      "\n",
      "Fuel.csv            100%[===================>]  70.93K   176KB/s    in 0.4s    \n",
      "\n",
      "2020-07-14 18:16:54 (176 KB/s) - ‘Fuel.csv’ saved [72629/72629]\n",
      "\n",
      "   MODELYEAR   MAKE       MODEL VEHICLECLASS  ENGINESIZE  CYLINDERS  \\\n",
      "0       2014  ACURA         ILX      COMPACT         2.0          4   \n",
      "1       2014  ACURA         ILX      COMPACT         2.4          4   \n",
      "2       2014  ACURA  ILX HYBRID      COMPACT         1.5          4   \n",
      "3       2014  ACURA     MDX 4WD  SUV - SMALL         3.5          6   \n",
      "4       2014  ACURA     RDX AWD  SUV - SMALL         3.5          6   \n",
      "\n",
      "  TRANSMISSION FUELTYPE  FUELCONSUMPTION_CITY  FUELCONSUMPTION_HWY  \\\n",
      "0          AS5        Z                   9.9                  6.7   \n",
      "1           M6        Z                  11.2                  7.7   \n",
      "2          AV7        Z                   6.0                  5.8   \n",
      "3          AS6        Z                  12.7                  9.1   \n",
      "4          AS6        Z                  12.1                  8.7   \n",
      "\n",
      "   FUELCONSUMPTION_COMB  FUELCONSUMPTION_COMB_MPG  CO2EMISSIONS  \n",
      "0                   8.5                        33           196  \n",
      "1                   9.6                        29           221  \n",
      "2                   5.9                        48           136  \n",
      "3                  11.1                        25           255  \n",
      "4                  10.6                        27           244  \n",
      "   MODELYEAR   MAKE       MODEL VEHICLECLASS  ENGINESIZE  CYLINDERS  \\\n",
      "0       2014  ACURA         ILX      COMPACT         2.0          4   \n",
      "1       2014  ACURA         ILX      COMPACT         2.4          4   \n",
      "2       2014  ACURA  ILX HYBRID      COMPACT         1.5          4   \n",
      "3       2014  ACURA     MDX 4WD  SUV - SMALL         3.5          6   \n",
      "4       2014  ACURA     RDX AWD  SUV - SMALL         3.5          6   \n",
      "\n",
      "  TRANSMISSION FUELTYPE  FUELCONSUMPTION_CITY  FUELCONSUMPTION_HWY  \\\n",
      "0          AS5        Z                   9.9                  6.7   \n",
      "1           M6        Z                  11.2                  7.7   \n",
      "2          AV7        Z                   6.0                  5.8   \n",
      "3          AS6        Z                  12.7                  9.1   \n",
      "4          AS6        Z                  12.1                  8.7   \n",
      "\n",
      "   FUELCONSUMPTION_COMB  FUELCONSUMPTION_COMB_MPG  CO2EMISSIONS  \n",
      "0                   8.5                        33           196  \n",
      "1                   9.6                        29           221  \n",
      "2                   5.9                        48           136  \n",
      "3                  11.1                        25           255  \n",
      "4                  10.6                        27           244  \n"
     ]
    }
   ],
   "source": [
    "#get the dataset\n",
    "\n",
    "#there are two different ways you can do this, either by using a wget command, or a python version of that\n",
    "#for the python version, you will need to import wget (as explained above)\n",
    "#for the inline version, you will need to install wget by homebrew: $ brew install wget\n",
    "#I will show both methods :)\n",
    "\n",
    "#using wget library\n",
    "file = wget.download('https://s3-api.us-geo.objectstorage.softlayer.net/cf-courses-data/CognitiveClass/ML0101ENv3/labs/FuelConsumptionCo2.csv')\n",
    "fuel1 = pd.read_csv(file)\n",
    "\n",
    "\n",
    "#using wget inline command\n",
    "!wget -O Fuel.csv https://s3-api.us-geo.objectstorage.softlayer.net/cf-courses-data/CognitiveClass/ML0101ENv3/labs/FuelConsumptionCo2.csv\n",
    "#the -O Fuel.csv means: save the file in the hyperlink as 'Fuel.csv'\n",
    "\n",
    "fuel2 = pd.read_csv('Fuel.csv')\n",
    "\n",
    "#to compare:\n",
    "print(fuel1.head())\n",
    "print(fuel2.head())\n",
    "\n",
    "#identical XD"
   ]
  },
  {
   "cell_type": "markdown",
   "metadata": {},
   "source": [
    "## Data Exploration\n"
   ]
  },
  {
   "cell_type": "code",
   "execution_count": 58,
   "metadata": {},
   "outputs": [
    {
     "data": {
      "text/plain": [
       "array([[<matplotlib.axes._subplots.AxesSubplot object at 0x11a1e6ed0>,\n",
       "        <matplotlib.axes._subplots.AxesSubplot object at 0x1a21637c90>],\n",
       "       [<matplotlib.axes._subplots.AxesSubplot object at 0x1a21678950>,\n",
       "        <matplotlib.axes._subplots.AxesSubplot object at 0x1a1e2f6cd0>]],\n",
       "      dtype=object)"
      ]
     },
     "execution_count": 58,
     "metadata": {},
     "output_type": "execute_result"
    },
    {
     "data": {
      "image/png": "[encoded data removed]",
      "text/plain": [
       "<Figure size 432x288 with 4 Axes>"
      ]
     },
     "metadata": {
      "needs_background": "light"
     },
     "output_type": "display_data"
    }
   ],
   "source": [
    "df = fuel1[['ENGINESIZE','CYLINDERS','FUELCONSUMPTION_COMB','CO2EMISSIONS']]\n",
    "df.hist()\n",
    "#the outcomes make sense, we don't expect cylinders to have a normal distribtion as you can only get \n",
    "#specific cylinder numbers on engines\n",
    "\n",
    "#the CO2 and Fuel consumption ones seem to be skewed slighlty, meaning that it could affect our regression model\n",
    "\n",
    "#the one for engine size is quite interesting, it has 3 peaks (likely because it is very much dependent on the cylinders!)\n"
   ]
  },
  {
   "cell_type": "code",
   "execution_count": 59,
   "metadata": {},
   "outputs": [
    {
     "data": {
      "text/plain": [
       "Text(0, 0.5, 'Fuel Consumption')"
      ]
     },
     "execution_count": 59,
     "metadata": {},
     "output_type": "execute_result"
    },
    {
     "data": {
      "image/png": "[encoded data removed]",
      "text/plain": [
       "<Figure size 432x288 with 4 Axes>"
      ]
     },
     "metadata": {
      "needs_background": "light"
     },
     "output_type": "display_data"
    }
   ],
   "source": [
    "fig = plt.figure()\n",
    "ax0 = fig.add_subplot(2,2,1)\n",
    "ax0 = plt.scatter(df.ENGINESIZE, df.CYLINDERS) # we can see from the output, it seems that size of the engine\n",
    "#really determines the number of cylinders?\n",
    "\n",
    "plt.xlabel('Engine Size')\n",
    "plt.ylabel('Cylinders')\n",
    "\n",
    "ax1 = fig.add_subplot(2,2,2)\n",
    "ax1 = plt.scatter(df.ENGINESIZE, df.CO2EMISSIONS)\n",
    "\n",
    "plt.xlabel('Engine Size')\n",
    "plt.ylabel('CO2 Emissions')\n",
    "\n",
    "ax2 = fig.add_subplot(2,2,3)\n",
    "ax2 = plt.scatter(df.ENGINESIZE, df.FUELCONSUMPTION_COMB)\n",
    "plt.xlabel('Engine Size')\n",
    "plt.ylabel('Fuel Consumption')\n",
    "\n",
    "ax3 = fig.add_subplot(2,2,4)\n",
    "ax2 = plt.scatter(df.CO2EMISSIONS, df.FUELCONSUMPTION_COMB)\n",
    "plt.xlabel('CO2 Emissions')\n",
    "plt.ylabel('Fuel Consumption')\n",
    "\n",
    "\n",
    "\n",
    "\n",
    "\n",
    "\n"
   ]
  },
  {
   "cell_type": "code",
   "execution_count": 60,
   "metadata": {},
   "outputs": [],
   "source": [
    "#creating testing and training data\n",
    "\n",
    "true_false = np.random.rand(len(df)) < 0.8 #creates a list of true false values (random) where true = 80% \n",
    "#of the dataset\n",
    "\n",
    "train = df[true_false] #creates df of only the training values (i.e. the true values from true_false)\n",
    "test = df[~true_false] #creates df of the test values\n"
   ]
  },
  {
   "cell_type": "code",
   "execution_count": 61,
   "metadata": {},
   "outputs": [
    {
     "name": "stdout",
     "output_type": "stream",
     "text": [
      "[[39.37222019]] [124.73941942]\n"
     ]
    }
   ],
   "source": [
    "from sklearn.linear_model import LinearRegression\n",
    "\n",
    "reg = LinearRegression() #create lin_reg object\n",
    "x = train[['ENGINESIZE']]\n",
    "y = train[['CO2EMISSIONS']]\n",
    "reg.fit(x,y)\n",
    "print(reg.coef_,reg.intercept_)"
   ]
  },
  {
   "cell_type": "code",
   "execution_count": 62,
   "metadata": {},
   "outputs": [
    {
     "name": "stdout",
     "output_type": "stream",
     "text": [
      "the R2 of trained data 0.7609390073997893\n",
      "mse =  967.8055012237994\n",
      "mae =  23.443775783553427\n",
      "[0.56722997]\n",
      "the R2 of test data 0.7773546488269415\n",
      "mse =  860.5990258104484\n",
      "mae =  23.026733669272726\n",
      "[0.30685529]\n"
     ]
    },
    {
     "data": {
      "image/png": "[encoded data removed]",
      "text/plain": [
       "<Figure size 432x288 with 1 Axes>"
      ]
     },
     "metadata": {
      "needs_background": "light"
     },
     "output_type": "display_data"
    }
   ],
   "source": [
    "from scipy.stats import skew\n",
    "\n",
    "#plot results together\n",
    "\n",
    "plt.scatter(train.ENGINESIZE, train.CO2EMISSIONS)\n",
    "plt.plot(x,reg.coef_*x + reg.intercept_,color = 'red') #overlay the regression!\n",
    "plt.xlabel('Engine Size')\n",
    "plt.ylabel('CO2 Emissions')\n",
    "#looks alright! how about we calculate some metrics?\n",
    "\n",
    "\n",
    "from sklearn.metrics import r2_score, mean_absolute_error as mae, mean_squared_error as mse\n",
    "\n",
    "print('the R2 of trained data',r2_score(y,reg.coef_*x + reg.intercept_))\n",
    "print('mse = ',mse(y,reg.coef_*x + reg.intercept_))\n",
    "print('mae = ',mae(y,reg.coef_*x + reg.intercept_))\n",
    "print(skew(y))\n",
    "x = test[['ENGINESIZE']]\n",
    "y = test[['CO2EMISSIONS']]\n",
    "\n",
    "\n",
    "y_hat = reg.predict(x)\n",
    "print('the R2 of test data',r2_score(y,y_hat)) #we expect this to be lower\n",
    "#it happens to be higher... a bit confused by this! NOTE: this reasoning is false. R2 is not a measure of how\n",
    "#good the model is. We should we comparing MSE or MAE!\n",
    "print('mse = ',mse(y,y_hat))\n",
    "print('mae = ',mae(y,y_hat))\n",
    "print(skew(y))\n",
    "#It's a bit weird to me that the MSE and MAE of the test data are lower.. shouldn't it be the opposite?\n",
    "\n",
    "#this may be because our test data is less skewed! Since we started with somewhat skewed data, it was expected\n",
    "#that our modelling would not be perfect. It may be that the fact that there is a difference in skewness\n",
    "#between the two datasets is what's causing this disparity.\n",
    "\n",
    "#either way, it is minimal and thus negligible!"
   ]
  },
  {
   "cell_type": "markdown",
   "metadata": {},
   "source": [
    "## Conclusion\n",
    "\n",
    "I did not engage with the dataset much, as I was pressed on time and just wanted to finish. If I come back to this, it would be interesting to see if we could to a multivariate regression on this, and further, if adding any transformations would help solve the skewness problem, and provide a better model. This is interesting."
   ]
  },
  {
   "cell_type": "code",
   "execution_count": null,
   "metadata": {},
   "outputs": [],
   "source": []
  }
 ],
 "metadata": {
  "kernelspec": {
   "display_name": "Python 3",
   "language": "python",
   "name": "python3"
  },
  "language_info": {
   "codemirror_mode": {
    "name": "ipython",
    "version": 3
   },
   "file_extension": ".py",
   "mimetype": "text/x-python",
   "name": "python",
   "nbconvert_exporter": "python",
   "pygments_lexer": "ipython3",
   "version": "3.7.6"
  }
 },
 "nbformat": 4,
 "nbformat_minor": 4
}
